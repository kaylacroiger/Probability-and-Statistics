{
  "nbformat": 4,
  "nbformat_minor": 0,
  "metadata": {
    "colab": {
      "provenance": [],
      "include_colab_link": true
    },
    "kernelspec": {
      "name": "python3",
      "display_name": "Python 3"
    },
    "language_info": {
      "name": "python"
    }
  },
  "cells": [
    {
      "cell_type": "markdown",
      "metadata": {
        "id": "view-in-github",
        "colab_type": "text"
      },
      "source": [
        "<a href=\"https://colab.research.google.com/github/kaylacroiger/Probability-and-Statistics/blob/main/Kayla_Croiger_Math_24_Lab_4.ipynb\" target=\"_parent\"><img src=\"https://colab.research.google.com/assets/colab-badge.svg\" alt=\"Open In Colab\"/></a>"
      ]
    },
    {
      "cell_type": "markdown",
      "source": [
        "#Monte Carlo"
      ],
      "metadata": {
        "id": "oaLPidcsUWq8"
      }
    },
    {
      "cell_type": "code",
      "source": [
        "import numpy as np\n",
        "import matplotlib.pyplot as plt\n",
        "#importing array computations and graphics libraries"
      ],
      "metadata": {
        "id": "71iPUDOqztE6"
      },
      "execution_count": null,
      "outputs": []
    },
    {
      "cell_type": "code",
      "metadata": {
        "id": "N9l2txUm1x4f"
      },
      "source": [
        "x = np.linspace(-3,3,100)\n",
        "#creating an array ranging from -3 to 3 with 100 data points in between"
      ],
      "execution_count": null,
      "outputs": []
    },
    {
      "cell_type": "code",
      "metadata": {
        "id": "iwp9VH061x61"
      },
      "source": [
        "y = x**2 + 2\n",
        "#this graph will be a function of x where the y value is equal to the x value squared added with 2."
      ],
      "execution_count": null,
      "outputs": []
    },
    {
      "cell_type": "code",
      "metadata": {
        "colab": {
          "base_uri": "https://localhost:8080/",
          "height": 447
        },
        "id": "mR6awmdU1x9Q",
        "outputId": "e0a9dfb8-220c-4464-8a3a-6f5786dfc8e9"
      },
      "source": [
        "plt.plot(x,y)\n",
        "#plotting the array\n",
        "#will be a polynomial curve with a translation of 2 units up."
      ],
      "execution_count": null,
      "outputs": [
        {
          "output_type": "execute_result",
          "data": {
            "text/plain": [
              "[<matplotlib.lines.Line2D at 0x786314d82ad0>]"
            ]
          },
          "metadata": {},
          "execution_count": 44
        },
        {
          "output_type": "display_data",
          "data": {
            "text/plain": [
              "<Figure size 640x480 with 1 Axes>"
            ],
            "image/png": "[encoded data removed]"
          },
          "metadata": {}
        }
      ]
    },
    {
      "cell_type": "markdown",
      "source": [
        "**Integration**"
      ],
      "metadata": {
        "id": "Ap4z9eECooso"
      }
    },
    {
      "cell_type": "code",
      "metadata": {
        "id": "lWHawjcS1x_W"
      },
      "source": [],
      "execution_count": null,
      "outputs": []
    },
    {
      "cell_type": "markdown",
      "metadata": {
        "id": "6qMRS6xM2Hpt"
      },
      "source": [
        "$f(x) = x^2 + 2$\n",
        "\n",
        "$Area = \\int_a^bf(x) dx$\n",
        "\n",
        "$= \\int_a^b (x^2+2) dx$\n",
        "\n",
        "$= \\left.\\frac{x^3}{3}+2x\\right\\vert_1^2$\n",
        "\n",
        "$= (\\frac{8}{3}+4) - (\\frac{1}{3}+2)$\n",
        "\n",
        "$= \\frac{13}{3}$"
      ]
    },
    {
      "cell_type": "code",
      "source": [
        "#when you integrate a formula, you are taking the area of the function bounded by the x axis as well as the two y values stated of 2 and 1."
      ],
      "metadata": {
        "id": "GqynEiZSoxPC"
      },
      "execution_count": null,
      "outputs": []
    },
    {
      "cell_type": "code",
      "metadata": {
        "colab": {
          "base_uri": "https://localhost:8080/"
        },
        "id": "SsdccAV61yBq",
        "outputId": "c807a709-81f7-42de-b004-9102928b1d37"
      },
      "source": [
        "13/3\n"
      ],
      "execution_count": null,
      "outputs": [
        {
          "output_type": "execute_result",
          "data": {
            "text/plain": [
              "4.333333333333333"
            ]
          },
          "metadata": {},
          "execution_count": 46
        }
      ]
    },
    {
      "cell_type": "markdown",
      "metadata": {
        "id": "jeEiI2823IX6"
      },
      "source": [
        "To integrate the function $f(x)$ over the interval $[a,b]$ we\n",
        "\n",
        "[1] find some value $M$ such that $f(x) < M$ over the interval $[a,b]$\n",
        "\n",
        "[2] select a random number $x$ from a uniform distribution over the interval $[a,b]$\n",
        "\n",
        "[3] select a random number y from a uniform distribution over the interval $[0,M]$\n",
        "\n",
        "[4] determine if $y > f(x)$ or $y ≤ f(x)$\n",
        "\n",
        "[5] repeat this process $N$ times, keeping track of the number of times $y ≤ f(x)$ or under the curve, successes $S$.\n",
        "\n",
        "The estimated probability of success is then:"
      ]
    },
    {
      "cell_type": "markdown",
      "metadata": {
        "id": "NdqIk22r3RaW"
      },
      "source": [
        "$\\frac{S}{N}=\\frac{\\text{Area under curve}}{\\text{Total area inside rectangle}} = \\frac{\\int_a^bf(x)dx}{M(b-a)}$"
      ]
    },
    {
      "cell_type": "markdown",
      "metadata": {
        "id": "P1lUvplv5rW-"
      },
      "source": [
        "$\\int_a^bf(x)dx = M(b-a)\\frac{S}{N}$"
      ]
    },
    {
      "cell_type": "code",
      "metadata": {
        "id": "BxflSiSf4kE6"
      },
      "source": [
        "def f(x):\n",
        "    y = x**2 + 2\n",
        "    return y\n",
        "#defining the (x,y) values for the graph through the function"
      ],
      "execution_count": null,
      "outputs": []
    },
    {
      "cell_type": "code",
      "metadata": {
        "colab": {
          "base_uri": "https://localhost:8080/",
          "height": 447
        },
        "id": "V5LEKioh4ttl",
        "outputId": "445fe6ee-26e5-4ef2-f783-094d85ca608b"
      },
      "source": [
        "plt.plot(x,f(x))"
      ],
      "execution_count": null,
      "outputs": [
        {
          "output_type": "execute_result",
          "data": {
            "text/plain": [
              "[<matplotlib.lines.Line2D at 0x786314936b60>]"
            ]
          },
          "metadata": {},
          "execution_count": 48
        },
        {
          "output_type": "display_data",
          "data": {
            "text/plain": [
              "<Figure size 640x480 with 1 Axes>"
            ],
            "image/png": "[encoded data removed]"
          },
          "metadata": {}
        }
      ]
    },
    {
      "cell_type": "code",
      "metadata": {
        "id": "UyVPMeWm4zt9"
      },
      "source": [],
      "execution_count": null,
      "outputs": []
    },
    {
      "cell_type": "code",
      "metadata": {
        "id": "q_XOtrrm2_Vm"
      },
      "source": [
        "M = 10\n"
      ],
      "execution_count": null,
      "outputs": []
    },
    {
      "cell_type": "code",
      "metadata": {
        "id": "hfGi86ia4Put"
      },
      "source": [
        "a = 1\n",
        "b = 2\n",
        "#defining variables for upcoming function equation"
      ],
      "execution_count": null,
      "outputs": []
    },
    {
      "cell_type": "code",
      "metadata": {
        "id": "3QMEIxUI2_YJ"
      },
      "source": [
        "x = a + (b-a)*np.random.random()\n",
        "#using set variables and taking the product of a function of a and b as well as a randomly generated number"
      ],
      "execution_count": null,
      "outputs": []
    },
    {
      "cell_type": "code",
      "source": [
        "x"
      ],
      "metadata": {
        "colab": {
          "base_uri": "https://localhost:8080/"
        },
        "id": "kK3OfMnThUeG",
        "outputId": "f9fcdf9c-fa9a-43f6-c236-e792a5fc6b5b"
      },
      "execution_count": null,
      "outputs": [
        {
          "output_type": "execute_result",
          "data": {
            "text/plain": [
              "1.973611562804838"
            ]
          },
          "metadata": {},
          "execution_count": 52
        }
      ]
    },
    {
      "cell_type": "code",
      "metadata": {
        "id": "-4_SdIRA2_aP"
      },
      "source": [
        "y = M*np.random.random()"
      ],
      "execution_count": null,
      "outputs": []
    },
    {
      "cell_type": "code",
      "metadata": {
        "colab": {
          "base_uri": "https://localhost:8080/"
        },
        "id": "7mySC0lfJd4V",
        "outputId": "413d5fac-dd0d-448f-e613-04c792fb77e5"
      },
      "source": [
        "x,y,f(x)"
      ],
      "execution_count": null,
      "outputs": [
        {
          "output_type": "execute_result",
          "data": {
            "text/plain": [
              "(1.973611562804838, 9.285893542859956, 5.895142600836955)"
            ]
          },
          "metadata": {},
          "execution_count": 54
        }
      ]
    },
    {
      "cell_type": "code",
      "metadata": {
        "colab": {
          "base_uri": "https://localhost:8080/"
        },
        "id": "YcBlPFsRxgFe",
        "outputId": "b9e63444-df19-4f6c-a9f5-290f0df18bf6"
      },
      "source": [
        "y < f(x)\\\n",
        "#tesing to see if the y value calculated is greater than or equal to the f(x) value."
      ],
      "execution_count": null,
      "outputs": [
        {
          "output_type": "execute_result",
          "data": {
            "text/plain": [
              "False"
            ]
          },
          "metadata": {},
          "execution_count": 55
        }
      ]
    },
    {
      "cell_type": "markdown",
      "source": [
        "Monte Carlo Integration"
      ],
      "metadata": {
        "id": "NUzNfXzrp6ka"
      }
    },
    {
      "cell_type": "code",
      "metadata": {
        "colab": {
          "base_uri": "https://localhost:8080/"
        },
        "id": "WgZGYWmi4_LG",
        "outputId": "c1512f10-cfba-4f0e-f99a-b08bca523265"
      },
      "source": [
        "N = 100_000\n",
        "#the number of random points simulated will be 100,000\n",
        "S = 0\n",
        "#this will count the number of points that fall below the line f(x)\n",
        "for i in range(N):\n",
        "\n",
        "    x = a + (b-a)*np.random.random()\n",
        "    #function between 1 and 2 with a random number\n",
        "    y = M*np.random.random()\n",
        "    #random y value between 0 and 1\n",
        "\n",
        "    S += (y < f(x))\n",
        "    #adds 1 to the value of S\n",
        "\n",
        "M*(b-a)*(S/N)\n",
        "#Calculates the area of the rectangles and the s/n gives an estimate of the values under the curve"
      ],
      "execution_count": null,
      "outputs": [
        {
          "output_type": "execute_result",
          "data": {
            "text/plain": [
              "4.3439"
            ]
          },
          "metadata": {},
          "execution_count": 56
        }
      ]
    },
    {
      "cell_type": "code",
      "metadata": {
        "id": "4vCgd-7RVmA4"
      },
      "source": [
        "#This graphing technique is called Monte Carlo Integration and is a method in which you find an area under a curve using randomness.\n",
        "#takes a compasrison of the amount of randomized points that fall above the graph versus the fall below the graph, both beign bounded by the x axis."
      ],
      "execution_count": null,
      "outputs": []
    },
    {
      "cell_type": "code",
      "metadata": {
        "id": "X9NTMNsyVmDe"
      },
      "source": [
        "def f(x):\n",
        "    y = x**2 + 2\n",
        "    return y\n",
        "#setting the function of f(x) to calculate the area under the curve of"
      ],
      "execution_count": null,
      "outputs": []
    },
    {
      "cell_type": "code",
      "metadata": {
        "id": "GAXseAalVml9"
      },
      "source": [
        "def monte_carlo_integrate(f,a,b,N):\n",
        "#running a monte carlo integration sequence to find the area under the curve\n",
        "#this time the simulation will be run with 10,000,000 points\n",
        "#in theory the more points plotted the more accurate estimate of area we will get\n",
        "    N = 10000000\n",
        "    S = 0\n",
        "    for i in range(N):\n",
        "\n",
        "        x = a + (b-a)*np.random.random()\n",
        "        y = M*np.random.random()\n",
        "\n",
        "        S += (y < f(x))\n",
        "\n",
        "    return M*(b-a)*(S/N)\n",
        "#plotting the x and y values as well as the calculation for the area using the random points"
      ],
      "execution_count": null,
      "outputs": []
    },
    {
      "cell_type": "code",
      "metadata": {
        "colab": {
          "base_uri": "https://localhost:8080/"
        },
        "id": "_bHAUyHuV1vo",
        "outputId": "abe6dd75-904b-4caa-b9a5-31b86bfbaac5"
      },
      "source": [
        "monte_carlo_integrate(f,1,2,1000)\n",
        "#the function between 1 and 2 with 1000 data points plotted in between"
      ],
      "execution_count": null,
      "outputs": [
        {
          "output_type": "execute_result",
          "data": {
            "text/plain": [
              "4.334115"
            ]
          },
          "metadata": {},
          "execution_count": 60
        }
      ]
    },
    {
      "cell_type": "code",
      "metadata": {
        "id": "c4Jl1ryiWlwx"
      },
      "source": [
        "from sympy import *"
      ],
      "execution_count": null,
      "outputs": []
    },
    {
      "cell_type": "code",
      "metadata": {
        "id": "DMWY2NVMWlzN"
      },
      "source": [
        "x = Symbol('x')\n",
        "#defining x as a variable"
      ],
      "execution_count": null,
      "outputs": []
    },
    {
      "cell_type": "code",
      "metadata": {
        "colab": {
          "base_uri": "https://localhost:8080/",
          "height": 39
        },
        "id": "fF9tSLvPKr1w",
        "outputId": "0a66bd07-f7e9-42e2-ad37-a7331ce4f00a"
      },
      "source": [
        "x\n",
        "#the code remembers that x is set equal to x"
      ],
      "execution_count": null,
      "outputs": [
        {
          "output_type": "execute_result",
          "data": {
            "text/plain": [
              "x"
            ],
            "text/latex": "$\\displaystyle x$"
          },
          "metadata": {},
          "execution_count": 63
        }
      ]
    },
    {
      "cell_type": "markdown",
      "source": [
        "Integration 1"
      ],
      "metadata": {
        "id": "Gyleze2Lr1tU"
      }
    },
    {
      "cell_type": "code",
      "metadata": {
        "id": "6pQiyAFWWoZE",
        "colab": {
          "base_uri": "https://localhost:8080/",
          "height": 51
        },
        "outputId": "e9d9fb2c-e4b1-4283-9bb3-35fe55c4f0c7"
      },
      "source": [
        "integrate(x**2 + 2, (x,1,2))\n",
        "#plotting area under the curve of the given function"
      ],
      "execution_count": null,
      "outputs": [
        {
          "output_type": "execute_result",
          "data": {
            "text/plain": [
              "13/3"
            ],
            "text/latex": "$\\displaystyle \\frac{13}{3}$"
          },
          "metadata": {},
          "execution_count": 64
        }
      ]
    },
    {
      "cell_type": "code",
      "metadata": {
        "id": "tx40llaFWtVI"
      },
      "source": [
        "13/3"
      ],
      "execution_count": null,
      "outputs": []
    },
    {
      "cell_type": "markdown",
      "source": [
        "Integration 2"
      ],
      "metadata": {
        "id": "Hsqd7t1Ir6ZZ"
      }
    },
    {
      "cell_type": "code",
      "metadata": {
        "id": "EXvJw8uHW2F7"
      },
      "source": [
        "integrate(x**3 + 3, (x,1,2))\n",
        "#plotting area under the curve"
      ],
      "execution_count": null,
      "outputs": []
    },
    {
      "cell_type": "code",
      "metadata": {
        "id": "AwKCW9spW9OE"
      },
      "source": [
        "27/4"
      ],
      "execution_count": null,
      "outputs": []
    },
    {
      "cell_type": "code",
      "metadata": {
        "id": "t8HmnXp4WuV1"
      },
      "source": [
        "x = 0"
      ],
      "execution_count": null,
      "outputs": []
    },
    {
      "cell_type": "code",
      "metadata": {
        "id": "XYaeF2rBW2IX"
      },
      "source": [
        "def f(x):\n",
        "    y = x**3 + 3\n",
        "    return y"
      ],
      "execution_count": null,
      "outputs": []
    },
    {
      "cell_type": "markdown",
      "source": [
        "Integration 3"
      ],
      "metadata": {
        "id": "H0XXnzONr9rC"
      }
    },
    {
      "cell_type": "code",
      "metadata": {
        "id": "kBmtn03YW4lg"
      },
      "source": [
        "monte_carlo_integrate(f,1,2,1000)"
      ],
      "execution_count": null,
      "outputs": []
    },
    {
      "cell_type": "code",
      "metadata": {
        "id": "HqoTlTRZW-mL"
      },
      "source": [],
      "execution_count": null,
      "outputs": []
    },
    {
      "cell_type": "code",
      "metadata": {
        "id": "Q0V0Q3scYOiC"
      },
      "source": [
        "N = 2000\n",
        "S = 0\n",
        "Z = np.zeros(N,)\n",
        "for i in range(1,N):\n",
        "\n",
        "    x = a + (b-a)*np.random.random()\n",
        "    y = M*np.random.random()\n",
        "    #generating random numbers within the range\n",
        "\n",
        "    S += (y < f(x))\n",
        "    #this is checking the interval of the solution, if the number falls under the line of the function, it is then counted towards the total\n",
        "\n",
        "    Z[i] = M*(b-a)*(S/i)\n",
        "    #cumulative estimate of the integral after \"i\" iterations\n",
        "#this function is estimating the value of the integral of a given range using the monte carlo integration method\n",
        "#"
      ],
      "execution_count": null,
      "outputs": []
    },
    {
      "cell_type": "code",
      "metadata": {
        "id": "pbgC39T5YjnM"
      },
      "source": [
        "plt.plot(Z)\n",
        "plt.plot(6.75*np.ones(Z.shape))"
      ],
      "execution_count": null,
      "outputs": []
    },
    {
      "cell_type": "code",
      "metadata": {
        "id": "_LG9FfbqY-DY"
      },
      "source": [
        "#z contains the estimate of the integral after each iteration in the simulation\n",
        "#plots a horizontal line along the function"
      ],
      "execution_count": null,
      "outputs": []
    },
    {
      "cell_type": "code",
      "source": [
        "import numpy as np\n",
        "import matplotlib.pyplot as plt\n",
        "from sympy import Symbol, integrate\n",
        "\n",
        "# Define a general function for Monte Carlo integration\n",
        "def monte_carlo_integrate(func, a, b, N, M):\n",
        "    S = 0\n",
        "    for _ in range(N):\n",
        "        x = a + (b - a) * np.random.random()\n",
        "        y = M * np.random.random()\n",
        "        if y < func(x):\n",
        "            S += 1\n",
        "    return M * (b - a) * (S / N)\n",
        "\n",
        "# Define the functions to be integrated\n",
        "def f1(x):\n",
        "    return x**2 + 2\n",
        "\n",
        "def f2(x):\n",
        "    return x**3 + 3\n",
        "\n",
        "# Calculate exact and estimated areas\n",
        "def calculate_areas(func, a, b, N, M):\n",
        "    x_sym = Symbol('x')\n",
        "    exact_area = integrate(func(x_sym), (x_sym, a, b)).evalf()\n",
        "    estimated_area = monte_carlo_integrate(func, a, b, N, M)\n",
        "    return exact_area, estimated_area\n",
        "\n",
        "# Plotting function\n",
        "def plot_function(func, title, a=-3, b=3):\n",
        "    x = np.linspace(a, b, 100)\n",
        "    y = func(x)\n",
        "    plt.plot(x, y, label=title)\n",
        "    plt.title(title)\n",
        "    plt.xlabel(\"x\")\n",
        "    plt.ylabel(\"f(x)\")\n",
        "    plt.legend()\n",
        "    plt.show()\n",
        "\n",
        "# Plot the functions\n",
        "plot_function(f1, \"$f(x) = x^2 + 2$\")\n",
        "plot_function(f2, \"$f(x) = x^3 + 3$\")\n",
        "\n",
        "# Calculate and print areas\n",
        "exact_area_f1, estimated_area_f1 = calculate_areas(f1, 1, 2, 100000, 20)\n",
        "exact_area_f2, estimated_area_f2 = calculate_areas(f2, 1, 2, 1000000, 20)\n",
        "\n",
        "print(\"Exact Area under f1:\", exact_area_f1)\n",
        "print(\"Estimated Area under f1:\", estimated_area_f1)\n",
        "print(\"Exact Area under f2:\", exact_area_f2)\n",
        "print(\"Estimated Area under f2:\", estimated_area_f2)\n"
      ],
      "metadata": {
        "id": "Os5t-jDcm7O7"
      },
      "execution_count": null,
      "outputs": []
    },
    {
      "cell_type": "code",
      "source": [],
      "metadata": {
        "id": "ddUrDHgsm7WD"
      },
      "execution_count": null,
      "outputs": []
    },
    {
      "cell_type": "code",
      "source": [],
      "metadata": {
        "id": "kXFoBNi-m7Yk"
      },
      "execution_count": null,
      "outputs": []
    },
    {
      "cell_type": "markdown",
      "source": [
        "# Visualization"
      ],
      "metadata": {
        "id": "GFcUm8hpn6Jb"
      }
    },
    {
      "cell_type": "code",
      "source": [
        "# Function to plot points for Monte Carlo integration\n",
        "def plot_monte_carlo(func, a, b, M, N):\n",
        "  #integrates the function as a Monte Carlo simlation on the interval from a to b\n",
        "  #where a and b are previously defined variables\n",
        "    x_points = a + (b - a) * np.random.random(N)\n",
        "    #plotting x values\n",
        "    y_points = M * np.random.random(N)\\\n",
        "    #plotting y values\n",
        "    below = y_points < func(x_points)\n",
        "    above = np.invert(below)\n",
        "    #uniformily distributed points\n",
        "\n",
        "    # Plotting the function\n",
        "    x = np.linspace(a - 1, b + 1, 400)\n",
        "  #the function will be graphed ranging from -1 to 1 which 400 points plotted\n",
        "    y = func(x)\n",
        "    plt.plot(x, y, label=\"f(x)\", color='black')\n",
        "    #labeling and changing the color\n",
        "\n",
        "    # Plotting the points\n",
        "    plt.scatter(x_points[below], y_points[below], color='green', label='Points below f(x)')\n",
        "    plt.scatter(x_points[above], y_points[above], color='red', label='Points above f(x)')\n",
        "    #all of the points below the x and y axis will be colored green\n",
        "    #all of the points above the y axis will be colored red\n",
        "\n",
        "    # Setting up the plot limits and labels\n",
        "    plt.xlim(a - 1, b + 1)\n",
        "    plt.ylim(0, M)\n",
        "    plt.xlabel(\"x\")\n",
        "    plt.ylabel(\"y\")\n",
        "    plt.title(\"Monte Carlo Integration Visualization\")\n",
        "    plt.legend()\n",
        "\n",
        "    plt.show()\n",
        "\n",
        "# Function to be integrated\n",
        "def f(x):\n",
        "    return x**2 + 2\n",
        "\n",
        "# Parameters for Monte Carlo Integration\n",
        "a, b, M, N = 1, 2, 20, 1000\n",
        "\n",
        "# Plotting the Monte Carlo Integration\n",
        "plot_monte_carlo(f, a, b, M, N)"
      ],
      "metadata": {
        "id": "EM_mzhM0m7az"
      },
      "execution_count": null,
      "outputs": []
    },
    {
      "cell_type": "code",
      "source": [
        "# Function for Monte Carlo Integration\n",
        "def monte_carlo_integrate(func, a, b, N, M):\n",
        "    S = 0\n",
        "    for _ in range(N):\n",
        "        x = a + (b - a) * np.random.random()\n",
        "        y = M * np.random.random()\n",
        "        if y < func(x):\n",
        "            S += 1\n",
        "    return M * (b - a) * (S / N)\n",
        "\n",
        "# Function to be integrated\n",
        "def f(x):\n",
        "    return x**2 + 2\n",
        "\n",
        "# Parameters\n",
        "a, b, M = 1, 2, 20\n",
        "iterations = np.logspace(1, 6, 100, dtype=int)  # Using logarithmically spaced iterations for smoother curve\n",
        "estimated_areas = []\n",
        "\n",
        "# Calculate estimated areas for different numbers of iterations\n",
        "for N in iterations:\n",
        "    estimated_area = monte_carlo_integrate(f, a, b, N, M)\n",
        "    estimated_areas.append(estimated_area)\n",
        "\n",
        "# Plotting convergence\n",
        "plt.figure(figsize=(10, 6))\n",
        "plt.plot(iterations, estimated_areas, color='blue')\n",
        "plt.xscale('log')\n",
        "plt.xlabel('Number of Iterations (log scale)')\n",
        "plt.ylabel('Estimated Area')\n",
        "plt.title('Convergence of Monte Carlo Integration')\n",
        "plt.grid(True)\n",
        "plt.show()"
      ],
      "metadata": {
        "id": "ziF6JLMpm7ez"
      },
      "execution_count": null,
      "outputs": []
    }
  ]
}